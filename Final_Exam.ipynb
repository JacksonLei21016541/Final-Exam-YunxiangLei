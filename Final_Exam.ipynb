{
  "nbformat": 4,
  "nbformat_minor": 0,
  "metadata": {
    "colab": {
      "provenance": [],
      "name": "Final_Exam.ipynb",
      "authorship_tag": "ABX9TyOyC6i0u9nKqX4POkbsOKXQ",
      "include_colab_link": true
    },
    "kernelspec": {
      "name": "python3",
      "display_name": "Python 3"
    },
    "language_info": {
      "name": "python"
    }
  },
  "cells": [
    {
      "cell_type": "markdown",
      "metadata": {
        "id": "view-in-github",
        "colab_type": "text"
      },
      "source": [
        "<a href=\"https://colab.research.google.com/github/JacksonLei21016541/Final-Exam-YunxiangLei/blob/main/Final_Exam.ipynb\" target=\"_parent\"><img src=\"https://colab.research.google.com/assets/colab-badge.svg\" alt=\"Open In Colab\"/></a>"
      ]
    },
    {
      "cell_type": "code",
      "execution_count": null,
      "metadata": {
        "id": "B_ZQB93pJhXw",
        "outputId": "8403aa4b-c23f-4c38-8e91-11b1291eac36",
        "colab": {
          "base_uri": "https://localhost:8080/"
        }
      },
      "outputs": [
        {
          "output_type": "stream",
          "name": "stdout",
          "text": [
            "Requirement already satisfied: pandas in /usr/local/lib/python3.11/dist-packages (2.2.2)\n",
            "Requirement already satisfied: requests in /usr/local/lib/python3.11/dist-packages (2.32.3)\n",
            "Requirement already satisfied: beautifulsoup4 in /usr/local/lib/python3.11/dist-packages (4.13.4)\n",
            "Collecting pyinputplus\n",
            "  Downloading PyInputPlus-0.2.12.tar.gz (20 kB)\n",
            "  Installing build dependencies ... \u001b[?25l\u001b[?25hdone\n",
            "  Getting requirements to build wheel ... \u001b[?25l\u001b[?25hdone\n",
            "  Preparing metadata (pyproject.toml) ... \u001b[?25l\u001b[?25hdone\n",
            "Requirement already satisfied: numpy>=1.23.2 in /usr/local/lib/python3.11/dist-packages (from pandas) (2.0.2)\n",
            "Requirement already satisfied: python-dateutil>=2.8.2 in /usr/local/lib/python3.11/dist-packages (from pandas) (2.9.0.post0)\n",
            "Requirement already satisfied: pytz>=2020.1 in /usr/local/lib/python3.11/dist-packages (from pandas) (2025.2)\n",
            "Requirement already satisfied: tzdata>=2022.7 in /usr/local/lib/python3.11/dist-packages (from pandas) (2025.2)\n",
            "Requirement already satisfied: charset-normalizer<4,>=2 in /usr/local/lib/python3.11/dist-packages (from requests) (3.4.2)\n",
            "Requirement already satisfied: idna<4,>=2.5 in /usr/local/lib/python3.11/dist-packages (from requests) (3.10)\n",
            "Requirement already satisfied: urllib3<3,>=1.21.1 in /usr/local/lib/python3.11/dist-packages (from requests) (2.4.0)\n",
            "Requirement already satisfied: certifi>=2017.4.17 in /usr/local/lib/python3.11/dist-packages (from requests) (2025.4.26)\n",
            "Requirement already satisfied: soupsieve>1.2 in /usr/local/lib/python3.11/dist-packages (from beautifulsoup4) (2.7)\n",
            "Requirement already satisfied: typing-extensions>=4.0.0 in /usr/local/lib/python3.11/dist-packages (from beautifulsoup4) (4.14.0)\n",
            "Collecting pysimplevalidate>=0.2.7 (from pyinputplus)\n",
            "  Downloading PySimpleValidate-0.2.12.tar.gz (22 kB)\n",
            "  Installing build dependencies ... \u001b[?25l\u001b[?25hdone\n",
            "  Getting requirements to build wheel ... \u001b[?25l\u001b[?25hdone\n",
            "  Preparing metadata (pyproject.toml) ... \u001b[?25l\u001b[?25hdone\n",
            "Collecting stdiomask>=0.0.3 (from pyinputplus)\n",
            "  Downloading stdiomask-0.0.6.tar.gz (3.6 kB)\n",
            "  Installing build dependencies ... \u001b[?25l\u001b[?25hdone\n",
            "  Getting requirements to build wheel ... \u001b[?25l\u001b[?25hdone\n",
            "  Preparing metadata (pyproject.toml) ... \u001b[?25l\u001b[?25hdone\n",
            "Requirement already satisfied: six>=1.5 in /usr/local/lib/python3.11/dist-packages (from python-dateutil>=2.8.2->pandas) (1.17.0)\n",
            "Building wheels for collected packages: pyinputplus, pysimplevalidate, stdiomask\n",
            "  Building wheel for pyinputplus (pyproject.toml) ... \u001b[?25l\u001b[?25hdone\n",
            "  Created wheel for pyinputplus: filename=pyinputplus-0.2.12-py3-none-any.whl size=11348 sha256=38d49cda5c3d61c914e95e84cae6f396efeef3ea3717459538f00d52d7400f52\n",
            "  Stored in directory: /root/.cache/pip/wheels/a3/6b/89/3bec14288af8e0729d088fb41a785e583d49e772f2529c7676\n",
            "  Building wheel for pysimplevalidate (pyproject.toml) ... \u001b[?25l\u001b[?25hdone\n",
            "  Created wheel for pysimplevalidate: filename=pysimplevalidate-0.2.12-py3-none-any.whl size=16225 sha256=c909a73dc89f0149b0bc6a14c49851f36b9edc7b590f9e72e52714d27684d05d\n",
            "  Stored in directory: /root/.cache/pip/wheels/fc/40/7a/4d3b2dc2e80b4b3bbda89eec94fcefd6c8bd1101cc7bb89554\n",
            "  Building wheel for stdiomask (pyproject.toml) ... \u001b[?25l\u001b[?25hdone\n",
            "  Created wheel for stdiomask: filename=stdiomask-0.0.6-py3-none-any.whl size=3358 sha256=70889d71f04431f7ead19762c1f23853ffa56d986cdfc225259f2fc3107cf550\n",
            "  Stored in directory: /root/.cache/pip/wheels/19/0c/90/5ee0da7cf06ff7e233f273063797785d5eabf0ab9f04220866\n",
            "Successfully built pyinputplus pysimplevalidate stdiomask\n",
            "Installing collected packages: stdiomask, pysimplevalidate, pyinputplus\n",
            "Successfully installed pyinputplus-0.2.12 pysimplevalidate-0.2.12 stdiomask-0.0.6\n"
          ]
        }
      ],
      "source": [
        "!pip install pandas requests beautifulsoup4 pyinputplus"
      ]
    },
    {
      "cell_type": "code",
      "source": [
        "import pandas as pd        # Week 7: Pandas data analysis\n",
        "import requests            # Week 8: Web scraping\n",
        "from bs4 import BeautifulSoup  # Week 8: HTML parsing\n",
        "import time                # Week 8: Web scraping delay\n",
        "import pyinputplus as pyip # Week 4: Input validation"
      ],
      "metadata": {
        "id": "GUQQNT5iQ_f7"
      },
      "execution_count": null,
      "outputs": []
    },
    {
      "cell_type": "markdown",
      "source": [
        "## Table of Contents\n",
        "- Section 1: Iterative Prompt Engineering\n",
        "  - 1.1 Initial Prompt & Pseudocode\n",
        "  - 1.2 Two Prompt Refinements\n",
        "  - 1.3 Critical Analysis\n",
        "- Section 2: Debug & Correct with AI\n",
        "  - 2.1 Error Identification\n",
        "  - 2.2 Fix & Manual Rewrite\n",
        "- Section 3: Debug & Refine WeatherWise API\n",
        "  - 3.1 Issue Analysis\n",
        "  - 3.2 Function Refinement\n",
        "  - 3.3 Comparison Analysis\n",
        "- Section 4: Manual Implementation & Course Reflection\n",
        "  - 4.1 Manual Implementation\n",
        "  - 4.2 Course-Connected Reflection"
      ],
      "metadata": {
        "id": "GHaP1n_TXG3-"
      }
    },
    {
      "cell_type": "markdown",
      "source": [
        "## Section 1.1 - Initial Prompt & Pseudocode\n"
      ],
      "metadata": {
        "id": "06WJErhSYIH4"
      }
    },
    {
      "cell_type": "markdown",
      "source": [
        "AI Prompt (Section 1.1):\n",
        "\n",
        "Using only Python techniques taught in Weeks 1–10, generate pseudocode for a command-line (CLI) task manager that supports the following features:\n",
        "\n",
        "Add a task in memory\n",
        "\n",
        "List all current tasks\n",
        "\n",
        "Remove a specified task from memory\n",
        "\n",
        "Structure your answer strictly according to the Week 2 “6-Step Planning Methodology”:\n",
        "\n",
        "Problem Statement: In one or two concise sentences, describe the purpose of the task manager.\n",
        "\n",
        "Inputs/Outputs: List what inputs the user will provide and what outputs the program should display.\n",
        "\n",
        "Manual Trace: Show a sample interaction (e.g., the user adds “buy milk” and then lists tasks).\n",
        "\n",
        "Pseudocode: Provide ordered, structured pseudocode using lists, dictionaries, functions, a while-loop menu system, and basic try-except.\n",
        "\n",
        "Implementation Notes: Briefly explain how you would implement the pseudocode in Python (using Weeks 4–8 techniques).\n",
        "\n",
        "Test Plan: Describe how to manually or automatically verify that the “add,” “list,” and “remove” functions work correctly.\n",
        "\n",
        "Constraints:\n",
        "\n",
        "Use only lists and dictionaries (Weeks 5–6), simple functions with parameters (Week 4), while loops for the menu (Week 5), and basic try-except for error handling (Week 8).\n",
        "\n",
        "Avoid advanced features such as list comprehensions, decorators, or custom exception types.\n",
        "\n",
        "Keep the pseudocode clear, easy to read, and matched to the complexity level of Weeks 7–8."
      ],
      "metadata": {
        "id": "Lx9yTvhqidyq"
      }
    },
    {
      "cell_type": "code",
      "source": [
        "# Initialization: use a list to store tasks\n",
        "tasks = []\n",
        "\n",
        "# Main loop\n",
        "while True:\n",
        "    print(\"Please enter a command (add/list/remove/exit):\")\n",
        "    user_input = input()  # Read the entire input line\n",
        "    parts = user_input.split(\" \", 1)  # Split once into command and remainder\n",
        "\n",
        "    try:\n",
        "        command = parts[0]\n",
        "\n",
        "        if command == \"add\":\n",
        "            # Add a task\n",
        "            description = parts[1]       # Task description\n",
        "            tasks.append(description)    # Append to the list\n",
        "            print(\"Task added: \" + description)\n",
        "\n",
        "        elif command == \"list\":\n",
        "            # List all tasks\n",
        "            if len(tasks) == 0:\n",
        "                print(\"No tasks.\")\n",
        "            else:\n",
        "                for idx in range(len(tasks)):\n",
        "                    print(f\"{idx+1}. {tasks[idx]}\")\n",
        "\n",
        "        elif command == \"remove\":\n",
        "            # Remove a specified task\n",
        "            index_str = parts[1]\n",
        "            index = int(index_str)      # Convert user input to integer\n",
        "            if 1 <= index <= len(tasks):\n",
        "                removed = tasks.pop(index-1)  # Pop and retrieve removed task\n",
        "                print(f\"Removed task #{index_str}: {removed}\")\n",
        "            else:\n",
        "                print(\"Index out of range.\")\n",
        "\n",
        "        elif command == \"exit\":\n",
        "            # Exit the program\n",
        "            print(\"Goodbye!\")\n",
        "            break\n",
        "\n",
        "        else:\n",
        "            # Unrecognized command\n",
        "            print(\"Invalid command. Please enter add/list/remove/exit.\")\n",
        "\n",
        "    except IndexError:\n",
        "        # Handle missing parts[1] (missing parameter)\n",
        "        print(\"Invalid command format. Please check your parameters.\")\n",
        "    except ValueError:\n",
        "        # Handle int() conversion failure\n",
        "        print(\"Invalid index. Please enter a number.\")\n"
      ],
      "metadata": {
        "collapsed": true,
        "id": "V887IlGFXc-7",
        "outputId": "8c804b53-17e9-45b8-b01f-e2ec09fb2f8d",
        "colab": {
          "base_uri": "https://localhost:8080/",
          "height": 382
        }
      },
      "execution_count": 1,
      "outputs": [
        {
          "output_type": "stream",
          "name": "stdout",
          "text": [
            "Please enter a command (add/list/remove/exit):\n"
          ]
        },
        {
          "output_type": "error",
          "ename": "KeyboardInterrupt",
          "evalue": "Interrupted by user",
          "traceback": [
            "\u001b[0;31m---------------------------------------------------------------------------\u001b[0m",
            "\u001b[0;31mKeyboardInterrupt\u001b[0m                         Traceback (most recent call last)",
            "\u001b[0;32m<ipython-input-1-6ba4576ee31e>\u001b[0m in \u001b[0;36m<cell line: 0>\u001b[0;34m()\u001b[0m\n\u001b[1;32m      5\u001b[0m \u001b[0;32mwhile\u001b[0m \u001b[0;32mTrue\u001b[0m\u001b[0;34m:\u001b[0m\u001b[0;34m\u001b[0m\u001b[0;34m\u001b[0m\u001b[0m\n\u001b[1;32m      6\u001b[0m     \u001b[0mprint\u001b[0m\u001b[0;34m(\u001b[0m\u001b[0;34m\"Please enter a command (add/list/remove/exit):\"\u001b[0m\u001b[0;34m)\u001b[0m\u001b[0;34m\u001b[0m\u001b[0;34m\u001b[0m\u001b[0m\n\u001b[0;32m----> 7\u001b[0;31m     \u001b[0muser_input\u001b[0m \u001b[0;34m=\u001b[0m \u001b[0minput\u001b[0m\u001b[0;34m(\u001b[0m\u001b[0;34m)\u001b[0m  \u001b[0;31m# Read the entire input line\u001b[0m\u001b[0;34m\u001b[0m\u001b[0;34m\u001b[0m\u001b[0m\n\u001b[0m\u001b[1;32m      8\u001b[0m     \u001b[0mparts\u001b[0m \u001b[0;34m=\u001b[0m \u001b[0muser_input\u001b[0m\u001b[0;34m.\u001b[0m\u001b[0msplit\u001b[0m\u001b[0;34m(\u001b[0m\u001b[0;34m\" \"\u001b[0m\u001b[0;34m,\u001b[0m \u001b[0;36m1\u001b[0m\u001b[0;34m)\u001b[0m  \u001b[0;31m# Split once into command and remainder\u001b[0m\u001b[0;34m\u001b[0m\u001b[0;34m\u001b[0m\u001b[0m\n\u001b[1;32m      9\u001b[0m \u001b[0;34m\u001b[0m\u001b[0m\n",
            "\u001b[0;32m/usr/local/lib/python3.11/dist-packages/ipykernel/kernelbase.py\u001b[0m in \u001b[0;36mraw_input\u001b[0;34m(self, prompt)\u001b[0m\n\u001b[1;32m   1175\u001b[0m                 \u001b[0;34m\"raw_input was called, but this frontend does not support input requests.\"\u001b[0m\u001b[0;34m\u001b[0m\u001b[0;34m\u001b[0m\u001b[0m\n\u001b[1;32m   1176\u001b[0m             )\n\u001b[0;32m-> 1177\u001b[0;31m         return self._input_request(\n\u001b[0m\u001b[1;32m   1178\u001b[0m             \u001b[0mstr\u001b[0m\u001b[0;34m(\u001b[0m\u001b[0mprompt\u001b[0m\u001b[0;34m)\u001b[0m\u001b[0;34m,\u001b[0m\u001b[0;34m\u001b[0m\u001b[0;34m\u001b[0m\u001b[0m\n\u001b[1;32m   1179\u001b[0m             \u001b[0mself\u001b[0m\u001b[0;34m.\u001b[0m\u001b[0m_parent_ident\u001b[0m\u001b[0;34m[\u001b[0m\u001b[0;34m\"shell\"\u001b[0m\u001b[0;34m]\u001b[0m\u001b[0;34m,\u001b[0m\u001b[0;34m\u001b[0m\u001b[0;34m\u001b[0m\u001b[0m\n",
            "\u001b[0;32m/usr/local/lib/python3.11/dist-packages/ipykernel/kernelbase.py\u001b[0m in \u001b[0;36m_input_request\u001b[0;34m(self, prompt, ident, parent, password)\u001b[0m\n\u001b[1;32m   1217\u001b[0m             \u001b[0;32mexcept\u001b[0m \u001b[0mKeyboardInterrupt\u001b[0m\u001b[0;34m:\u001b[0m\u001b[0;34m\u001b[0m\u001b[0;34m\u001b[0m\u001b[0m\n\u001b[1;32m   1218\u001b[0m                 \u001b[0;31m# re-raise KeyboardInterrupt, to truncate traceback\u001b[0m\u001b[0;34m\u001b[0m\u001b[0;34m\u001b[0m\u001b[0m\n\u001b[0;32m-> 1219\u001b[0;31m                 \u001b[0;32mraise\u001b[0m \u001b[0mKeyboardInterrupt\u001b[0m\u001b[0;34m(\u001b[0m\u001b[0;34m\"Interrupted by user\"\u001b[0m\u001b[0;34m)\u001b[0m \u001b[0;32mfrom\u001b[0m \u001b[0;32mNone\u001b[0m\u001b[0;34m\u001b[0m\u001b[0;34m\u001b[0m\u001b[0m\n\u001b[0m\u001b[1;32m   1220\u001b[0m             \u001b[0;32mexcept\u001b[0m \u001b[0mException\u001b[0m\u001b[0;34m:\u001b[0m\u001b[0;34m\u001b[0m\u001b[0;34m\u001b[0m\u001b[0m\n\u001b[1;32m   1221\u001b[0m                 \u001b[0mself\u001b[0m\u001b[0;34m.\u001b[0m\u001b[0mlog\u001b[0m\u001b[0;34m.\u001b[0m\u001b[0mwarning\u001b[0m\u001b[0;34m(\u001b[0m\u001b[0;34m\"Invalid Message:\"\u001b[0m\u001b[0;34m,\u001b[0m \u001b[0mexc_info\u001b[0m\u001b[0;34m=\u001b[0m\u001b[0;32mTrue\u001b[0m\u001b[0;34m)\u001b[0m\u001b[0;34m\u001b[0m\u001b[0;34m\u001b[0m\u001b[0m\n",
            "\u001b[0;31mKeyboardInterrupt\u001b[0m: Interrupted by user"
          ]
        }
      ]
    },
    {
      "cell_type": "markdown",
      "source": [
        "**Course Reference**: I used the Week 2 “Computational Thinking & Simple Interfaces” 6-Step Planning Methodology.\n"
      ],
      "metadata": {
        "id": "ddqG7C07ji_O"
      }
    },
    {
      "cell_type": "markdown",
      "source": [
        "## Section 1.2 - Two Prompt Refinements\n",
        "### First Refinement\n",
        "[占位：提示、伪代码、引用]\n",
        "- 请在此粘贴第一次改进的AI提示、AI返回的更新伪代码，以及课程引用，例如：“此改进应用了第3周‘选择与决策逻辑’的输入验证。”\n",
        "\n"
      ],
      "metadata": {
        "id": "9LTPNssNYSsR"
      }
    },
    {
      "cell_type": "markdown",
      "source": [
        "AI Prompt (Section 1.2):\n",
        "\n",
        "Please improve the previous CLI task manager pseudocode by adding Week 3 input validation to ensure:\n",
        "\n",
        "The command (add/list/remove/exit) is one of the valid options.\n",
        "\n",
        "The index provided to the remove command is a valid number (from 1 to the current number of tasks).\n",
        "\n",
        "Use only Python techniques taught in Weeks 1–10: lists, functions, while loops, and basic try-except. Follow the Week 2 six-step planning methodology, updating the problem statement, inputs/outputs, manual trace, and pseudocode. Keep the complexity at the Weeks 7–8 level and avoid any advanced features."
      ],
      "metadata": {
        "id": "mmemTuJmzDqm"
      }
    },
    {
      "cell_type": "code",
      "source": [
        "tasks = []  # Use a list to store tasks\n",
        "\n",
        "while True:\n",
        "    print(\"Please enter a command (add/list/remove/exit):\")\n",
        "    user_input = input()\n",
        "    parts = user_input.split(\" \", 1)  # Split into [command, rest] at most once\n",
        "\n",
        "    # First, validate the command\n",
        "    if len(parts[0]) == 0 or parts[0] not in [\"add\", \"list\", \"remove\", \"exit\"]:\n",
        "        print(\"Invalid command. Please enter add/list/remove/exit.\")\n",
        "        continue\n",
        "\n",
        "    command = parts[0]\n",
        "\n",
        "    # add command\n",
        "    if command == \"add\":\n",
        "        if len(parts) < 2 or len(parts[1].strip()) == 0:\n",
        "            print(\"Invalid command format. Please check your parameters.\")\n",
        "            continue\n",
        "        description = parts[1].strip()\n",
        "        tasks.append(description)\n",
        "        print(\"Task added: \" + description)\n",
        "\n",
        "    # list command\n",
        "    elif command == \"list\":\n",
        "        if len(tasks) == 0:\n",
        "            print(\"No tasks.\")\n",
        "        else:\n",
        "            for i in range(len(tasks)):\n",
        "                print(f\"{i+1}. {tasks[i]}\")\n",
        "\n",
        "    # remove command\n",
        "    elif command == \"remove\":\n",
        "        if len(parts) < 2 or len(parts[1].strip()) == 0:\n",
        "            print(\"Invalid command format. Please check your parameters.\")\n",
        "            continue\n",
        "        index_str = parts[1].strip()\n",
        "        # Validate it's an integer\n",
        "        try:\n",
        "            index = int(index_str)\n",
        "        except ValueError:\n",
        "            print(f\"Invalid index. Please enter a number between 1 and {len(tasks)}.\")\n",
        "            continue\n",
        "        # Validate index range\n",
        "        if index < 1 or index > len(tasks):\n",
        "            print(f\"Invalid index. Please enter a number between 1 and {len(tasks)}.\")\n",
        "            continue\n",
        "        removed = tasks.pop(index-1)\n",
        "        print(\"Removed task #\" + index_str + \": \" + removed)\n",
        "\n",
        "    # exit command\n",
        "    elif command == \"exit\":\n",
        "        print(\"Goodbye!\")\n",
        "        break"
      ],
      "metadata": {
        "collapsed": true,
        "id": "Zocdg0NAo4X_",
        "outputId": "666719b8-4067-4240-be20-0bd38713a1b5",
        "colab": {
          "base_uri": "https://localhost:8080/"
        }
      },
      "execution_count": null,
      "outputs": [
        {
          "output_type": "stream",
          "name": "stdout",
          "text": [
            "Please enter a command (add/list/remove/exit):\n"
          ]
        }
      ]
    },
    {
      "cell_type": "markdown",
      "source": [
        "**Course Reference**: This refinement applies the Week 3 “Selection and Decision Logic” input validation."
      ],
      "metadata": {
        "id": "JWU9tU63rdeI"
      }
    },
    {
      "cell_type": "markdown",
      "source": [
        "### Second Refinement\n",
        "[占位：提示、伪代码、引用]\n",
        "- 请在此粘贴第二次改进的AI提示、AI返回的更新伪代码，以及课程引用，例如：“此改进应用了第8周‘网页抓取’的基本异常处理。”\n",
        "\n"
      ],
      "metadata": {
        "id": "YulEXlgenaKX"
      }
    },
    {
      "cell_type": "markdown",
      "source": [
        "AI Prompt (Section 1.3):\n",
        "\n",
        "Please further refine the previous CLI task manager pseudocode by adding the Week 5 while-loop to provide a persistent menu prompt (for example, re-display the menu after each operation) and enhance the user experience. Use only Python techniques taught in Weeks 1–10: lists, functions, while loops, and basic try-except. Follow the Week 2 six-step planning methodology, updating the problem statement, inputs/outputs, manual trace, and pseudocode. Keep the complexity at the Weeks 7–8 level, avoiding advanced features (such as specific exception types or complex data structures)."
      ],
      "metadata": {
        "id": "F7MkvbZgzaG5"
      }
    },
    {
      "cell_type": "code",
      "source": [
        "# ---- Helper Function ----\n",
        "def display_menu():\n",
        "    print(\"=== Task Manager ===\")\n",
        "    print(\"add <description>   : Add a task\")\n",
        "    print(\"list                : List all tasks\")\n",
        "    print(\"remove <index>      : Remove a task\")\n",
        "    print(\"exit                : Exit\")\n",
        "\n",
        "# ---- Main Program ----\n",
        "tasks = []   # Use a list to store tasks\n",
        "\n",
        "while True:\n",
        "    display_menu()\n",
        "    user_input = input(\"Please enter a command: \")\n",
        "    parts = user_input.split(\" \", 1)  # Split into [command, param]\n",
        "\n",
        "    # Validate command\n",
        "    if parts[0] not in [\"add\", \"list\", \"remove\", \"exit\"]:\n",
        "        print(\"Invalid command. Please enter add/list/remove/exit.\")\n",
        "        continue\n",
        "\n",
        "    command = parts[0]\n",
        "\n",
        "    # Handle add\n",
        "    if command == \"add\":\n",
        "        if len(parts) < 2 or parts[1].strip() == \"\":\n",
        "            print(\"Invalid command format. Please check the parameters.\")\n",
        "            continue\n",
        "        description = parts[1].strip()\n",
        "        tasks.append(description)\n",
        "        print(\"Task added: \" + description)\n",
        "\n",
        "    # Handle list\n",
        "    elif command == \"list\":\n",
        "        if len(tasks) == 0:\n",
        "            print(\"No tasks.\")\n",
        "        else:\n",
        "            for i in range(len(tasks)):\n",
        "                print(f\"{i+1}. {tasks[i]}\")\n",
        "\n",
        "    # Handle remove\n",
        "    elif command == \"remove\":\n",
        "        if len(parts) < 2 or parts[1].strip() == \"\":\n",
        "            print(\"Invalid command format. Please check the parameters.\")\n",
        "            continue\n",
        "        idx_str = parts[1].strip()\n",
        "        # Validate integer\n",
        "        try:\n",
        "            idx = int(idx_str)\n",
        "        except ValueError:\n",
        "            print(f\"Invalid index. Please enter a number between 1 and {len(tasks)}.\")\n",
        "            continue\n",
        "        # Validate range\n",
        "        if idx < 1 or idx > len(tasks):\n",
        "            print(f\"Invalid index. Please enter a number between 1 and {len(tasks)}.\")\n",
        "            continue\n",
        "        removed = tasks.pop(idx-1)\n",
        "        print(\"Removed task #\" + idx_str + \": \" + removed)\n",
        "\n",
        "    # Handle exit\n",
        "    else:  # command == \"exit\"\n",
        "        print(\"Goodbye!\")\n",
        "        break"
      ],
      "metadata": {
        "id": "lm_q67QJYZdm",
        "outputId": "0fa13095-0230-4953-dc57-2d5d3d91094b",
        "colab": {
          "base_uri": "https://localhost:8080/"
        }
      },
      "execution_count": 2,
      "outputs": [
        {
          "output_type": "stream",
          "name": "stdout",
          "text": [
            "=== Task Manager ===\n",
            "add <description>   : Add a task\n",
            "list                : List all tasks\n",
            "remove <index>      : Remove a task\n",
            "exit                : Exit\n",
            "Please enter a command: exit\n",
            "Goodbye!\n"
          ]
        }
      ]
    },
    {
      "cell_type": "markdown",
      "source": [
        "**Course Reference**: This improvement applied the basic exception handling from Week 8 \"Web Scraping\" and the while loop from Week 5 \"Loops and Lists\"."
      ],
      "metadata": {
        "id": "iU-1vuDeva_h"
      }
    },
    {
      "cell_type": "markdown",
      "source": [
        "## Section 1.3 - Critical Analysis\n",
        "[占位：150字分析]\n",
        "- 请在此写入150字分析，说明提示如何演变，引用具体周次和课程概念。\n",
        "- 示例格式：“我的改进应用了**第3周的输入验证**，因为…；**第5周的循环**确保…；连接到**第2周的6步方法论**。”\n",
        "- 确保加粗周次引用，并检查字数。\n",
        "\n"
      ],
      "metadata": {
        "id": "OIK6UP88YaO8"
      }
    },
    {
      "cell_type": "markdown",
      "source": [
        "My refinements applied **Week 3's defensive programming** because the initial pseudocode lacked input validation, leading to potential errors. The first refinement added if statements to check command and index validity (e.g., empty parameters), enhancing robustness, aligning with **Week 3's Selection and Decision Logic** objectives. The second refinement introduced **Week 5's iterative design**, using a while loop and display_menu() for continuous menu prompts, improving user experience, reflecting **Week 5's Loops and Lists** concepts. The final pseudocode embodied **Week 2's Computational Thinking** 6-step methodology, from problem statement to testing, ensuring clear logic. This connects to **Week 4's Functions and Modular Design**, breaking tasks into functions for maintainability."
      ],
      "metadata": {
        "id": "YrHeK7Y6zeo5"
      }
    },
    {
      "cell_type": "markdown",
      "source": [
        "## Section 2.1 - Error Identification\n",
        "[占位：提示和AI分析]\n",
        "- 请在此粘贴你的AI提示（例如，“请分析以下代码，识别第1-6周的错误”）和AI返回的完整错误分析。\n",
        "- 添加课程引用，例如：“我应用了第1周‘Python基础’的调试方法。”"
      ],
      "metadata": {
        "id": "j7TbY--0Y6F5"
      }
    },
    {
      "cell_type": "markdown",
      "source": [
        "AI Prompt (Section 2.1):\n",
        "\n",
        "Please analyze the following Python task manager code and identify any syntax and logic errors (including typos, variable mistakes, function name errors, and statement syntax errors). The code is as follows:\n"
      ],
      "metadata": {
        "id": "Zmnglhru0rQq"
      }
    },
    {
      "cell_type": "code",
      "source": [
        "# broken_task_manager.py\n",
        "tasks = []\n",
        "\n",
        "def add_task(task):\n",
        "    tasks.append(task)\n",
        "    print(f\"Added: {task}\")\n",
        "\n",
        "def remove_task(index):\n",
        "    if index < len(tas):  # Error 1: typo\n",
        "        removed = tasks[index]\n",
        "        del tasks[index]\n",
        "        print(f\"Removed: {removed}\")\n",
        "    else:\n",
        "        print(\"Invalid index!\")\n",
        "\n",
        "def list_tasks():\n",
        "    if not tasks:\n",
        "        print(\"No tasks available.\")\n",
        "    else:\n",
        "        for i, t in enumerate(task):  # Error 2: wrong variable\n",
        "            print(f\"{i+1}: {t}\")\n",
        "\n",
        "def main():\n",
        "    add_task(\"Buy milk\")\n",
        "    add_task(\"Pay bills\")\n",
        "    add_task(\"Walk dog\")\n",
        "    list_tasks()\n",
        "    remove_task(1)\n",
        "    list_task()  # Error 3: wrong function name\n",
        "\n",
        "if __name__ == \"__main__\":\n",
        "    main()"
      ],
      "metadata": {
        "id": "E-QPiJ462XPC"
      },
      "execution_count": null,
      "outputs": []
    },
    {
      "cell_type": "markdown",
      "source": [
        "Below is a line-by-line analysis of the syntax and logic errors in broken_task_manager.py, along with suggested fixes:\n",
        "\n",
        "Typo in remove_task\n",
        "\n",
        "def remove_task(index):\n",
        "    if index < len(tas):  # Error 1: typo\n",
        "**Issue: tas is misspelled; it should be tasks.**\n",
        "Fix:\n",
        "\n",
        "if index < len(tasks):\n",
        "Variable name and f-string syntax errors in list_tasks\n",
        "\n",
        "def list_tasks():\n",
        "    …\n",
        "    else:\n",
        "        for i, t in enumerate(task):  # Error 2: wrong variable\n",
        "            print(f={i+1}: {t} \")\n",
        "**Issue A: enumerate(task) uses the undefined task; it should be tasks.**\n",
        "\n",
        "**Issue B: print(f={i+1}: {t} \") is not valid f-string syntax. **\n",
        "Fix:\n",
        "\n",
        "for i, t in enumerate(tasks):\n",
        "    print(f\"{i+1}: {t}\")\n",
        "Calling a non-existent function in main()\n",
        "\n",
        "    list_task()  # Error 3: wrong function name\n",
        "**Issue: The function is named list_tasks(), not list_task().**\n",
        "Fix:\n",
        "\n",
        "list_tasks()\n",
        "**Incorrect __name__ check and its placement**\n",
        "\n",
        "    if __name__ == \"_main_\":\n",
        "        main()\n",
        "**Issue A: The special variable check should be if __name__ == \"__main__\": (with double underscores).**\n",
        "\n",
        "**Issue B: This block must sit at the global level (not indented inside main()), otherwise it never runs.**\n",
        "Fix (place at the end of the file):\n",
        "\n",
        "if __name__ == \"__main__\":\n",
        "    main()"
      ],
      "metadata": {
        "id": "nyWlxs-e4rAr"
      }
    },
    {
      "cell_type": "markdown",
      "source": [
        "**Course Reference**: I applied the Week 1 \"Python Basics\" debugging methodology."
      ],
      "metadata": {
        "id": "lK8yPDVG7zhO"
      }
    },
    {
      "cell_type": "markdown",
      "source": [
        "## Section 2.2 - Fix & Manual Rewrite\n",
        "[占位：提示、AI响应、手动代码]\n",
        "- 请在此粘贴AI提示（例如，“请提供修正代码，使用第5-6周技术”）和AI返回的代码。\n",
        "- 在新单元格手动重写修正代码，添加doctest和注释，例如：“修复了第1周的拼写错误”。\n",
        "- 课程引用：“错误处理来自第3周；测试方法遵循第5周。”"
      ],
      "metadata": {
        "id": "V_guJSsgY52c"
      }
    },
    {
      "cell_type": "markdown",
      "source": [
        "AI Prompt (Section 2.1):\n",
        "\n",
        "Please analyze the following Python task manager code and identify any syntax and logic errors (including typos, variable mistakes, function name errors, and statement syntax errors). The code is as follows:"
      ],
      "metadata": {
        "id": "K4oFdNf_8vhV"
      }
    },
    {
      "cell_type": "code",
      "source": [
        "# broken_task_manager.py\n",
        "tasks = []\n",
        "\n",
        "def add_task(task):\n",
        "    tasks.append(task)\n",
        "    print(f\"Added: {task}\")\n",
        "\n",
        "def remove_task(index):\n",
        "    if index < len(tas):  # Error 1: typo\n",
        "        removed = tasks[index]\n",
        "        del tasks[index]\n",
        "        print(f\"Removed: {removed}\")\n",
        "    else:\n",
        "        print(\"Invalid index!\")\n",
        "\n",
        "def list_tasks():\n",
        "    if not tasks:\n",
        "        print(\"No tasks available.\")\n",
        "    else:\n",
        "        for i, t in enumerate(task):  # Error 2: wrong variable\n",
        "            print(f\"{i+1}: {t}\")\n",
        "\n",
        "def main():\n",
        "    add_task(\"Buy milk\")\n",
        "    add_task(\"Pay bills\")\n",
        "    add_task(\"Walk dog\")\n",
        "    list_tasks()\n",
        "    remove_task(1)\n",
        "    list_task()  # Error 3: wrong function name\n",
        "\n",
        "if __name__ == \"__main__\":\n",
        "    main()"
      ],
      "metadata": {
        "id": "Qya1Sa5X9Oct"
      },
      "execution_count": null,
      "outputs": []
    },
    {
      "cell_type": "markdown",
      "source": [
        "### Corrected Reference Code"
      ],
      "metadata": {
        "id": "BytPDZ5Z6z4c"
      }
    },
    {
      "cell_type": "code",
      "source": [
        "# fixed_task_manager.py\n",
        "\n",
        "tasks = []\n",
        "\n",
        "def add_task(task):\n",
        "    tasks.append(task)\n",
        "    print(f\"Added: {task}\")\n",
        "\n",
        "def remove_task(index):\n",
        "    if index < len(tasks):\n",
        "        removed = tasks[index]\n",
        "        del tasks[index]\n",
        "        print(f\"Removed: {removed}\")\n",
        "    else:\n",
        "        print(\"Invalid index!\")\n",
        "\n",
        "def list_tasks():\n",
        "    if not tasks:\n",
        "        print(\"No tasks available.\")\n",
        "    else:\n",
        "        for i, t in enumerate(tasks):\n",
        "            print(f\"{i+1}: {t}\")\n",
        "\n",
        "def main():\n",
        "    add_task(\"Buy milk\")\n",
        "    add_task(\"Pay bills\")\n",
        "    add_task(\"Walk dog\")\n",
        "    list_tasks()\n",
        "    remove_task(1)\n",
        "    list_tasks()\n",
        "\n",
        "if __name__ == \"__main__\":\n",
        "    main()"
      ],
      "metadata": {
        "id": "7uTmqWdn7B0n",
        "outputId": "19131c06-ae4b-486a-b475-fcc7d34fda15",
        "colab": {
          "base_uri": "https://localhost:8080/"
        }
      },
      "execution_count": 3,
      "outputs": [
        {
          "output_type": "stream",
          "name": "stdout",
          "text": [
            "Added: Buy milk\n",
            "Added: Pay bills\n",
            "Added: Walk dog\n",
            "1: Buy milk\n",
            "2: Pay bills\n",
            "3: Walk dog\n",
            "Removed: Pay bills\n",
            "1: Buy milk\n",
            "2: Walk dog\n"
          ]
        }
      ]
    },
    {
      "cell_type": "markdown",
      "source": [
        "### **Manually rewrite**"
      ],
      "metadata": {
        "id": "hIYGVsCB9mzl"
      }
    },
    {
      "cell_type": "code",
      "source": [
        "# Section 2.2 - Fixed Task Manager\n",
        "\n",
        "tasks = []\n",
        "\n",
        "def add_task(task):\n",
        "    \"\"\"Add a task to the list.\n",
        "    >>> add_task(\"Test\")\n",
        "    Added: Test\n",
        "    >>> len(tasks)\n",
        "    1\n",
        "    \"\"\"\n",
        "    tasks.append(task)  # Week 5 list operation\n",
        "    print(f\"Added: {task}\")\n",
        "\n",
        "def remove_task(index):\n",
        "    \"\"\"Remove a task by index (1-based).\n",
        "    >>> tasks.append(\"Test\"); remove_task(1)\n",
        "    Removed: Test\n",
        "    >>> len(tasks)\n",
        "    0\n",
        "    \"\"\"\n",
        "    if 0 <= index - 1 < len(tasks):  # Fixed: tas -> tasks, adjusted index (Week 1 typo)\n",
        "        removed = tasks.pop(index - 1)  # Week 5 list operation\n",
        "        print(f\"Removed: {removed}\")\n",
        "    else:\n",
        "        print(\"Invalid index!\")  # Week 3 conditional\n",
        "\n",
        "def list_tasks():\n",
        "    \"\"\"List all tasks with numbering.\n",
        "    >>> tasks.append(\"Test\"); list_tasks()\n",
        "    1: Test\n",
        "    >>> tasks = []; list_tasks()\n",
        "    No tasks available.\n",
        "    \"\"\"\n",
        "    if not tasks:  # Week 3 conditional\n",
        "        print(\"No tasks available.\")\n",
        "    else:\n",
        "        for i in range(len(tasks)):  # Week 5 loop\n",
        "            print(f\"{i+1}: {tasks[i]}\")  # Fixed: enumerate syntax (Week 5)\n",
        "\n",
        "def main():\n",
        "    \"\"\"Run the task manager program.\"\"\"\n",
        "    add_task(\"Buy milk\")\n",
        "    add_task(\"Pay bills\")\n",
        "    add_task(\"Walk dog\")\n",
        "    list_tasks()\n",
        "    remove_task(1)  # Fixed: index-1 (Week 1)\n",
        "    list_tasks()\n",
        "\n",
        "if __name__ == \"__main__\":  # Fixed: _main_ -> __main__ (Week 8)\n",
        "    main()"
      ],
      "metadata": {
        "id": "96n7i8rE-TGZ",
        "outputId": "4e26b7fc-342f-4d48-f896-c1e725e289a9",
        "colab": {
          "base_uri": "https://localhost:8080/"
        }
      },
      "execution_count": 6,
      "outputs": [
        {
          "output_type": "stream",
          "name": "stdout",
          "text": [
            "Added: Buy milk\n",
            "Added: Pay bills\n",
            "Added: Walk dog\n",
            "1: Buy milk\n",
            "2: Pay bills\n",
            "3: Walk dog\n",
            "Removed: Buy milk\n",
            "1: Pay bills\n",
            "2: Walk dog\n"
          ]
        }
      ]
    },
    {
      "cell_type": "markdown",
      "source": [
        "**Course Reference**: Error handling derives from Week 3 \"Selection and Decision Logic\"; testing methods follow Week 5 \"Loops and Lists\"."
      ],
      "metadata": {
        "id": "-IorBJDm4qNA"
      }
    },
    {
      "cell_type": "markdown",
      "source": [
        "## Section 3.1 - Issue Analysis\n",
        "[占位：问题分析和AI审查]\n",
        "- 请在此列出`safe_weather_data_fetch`的3个问题（例如，URL错误、JSON访问错误），并引用周次解决方案。\n",
        "- 粘贴AI提示（例如，“请使用第8周技术审查此函数”）和AI响应。\n",
        "- 课程引用：“问题分析使用了第8周‘网页抓取’的技术。”"
      ],
      "metadata": {
        "id": "FLs91bqdY5_x"
      }
    },
    {
      "cell_type": "markdown",
      "source": [
        "## Section 3.2 - Function Refinement\n",
        "[占位：优化函数代码]\n",
        "- 请在此编写`refined_safe_weather_data_fetch(city)`，使用第8周基本try-except和第3周输入验证。\n",
        "- 添加doctest，例如："
      ],
      "metadata": {
        "id": "jSQ333YoY6Cp"
      }
    },
    {
      "cell_type": "markdown",
      "source": [
        "- 课程引用：“使用了第8周‘网页抓取’的基本异常处理和第3周‘选择与决策逻辑’的输入验证。”"
      ],
      "metadata": {
        "id": "B8124fqGZEEt"
      }
    },
    {
      "cell_type": "markdown",
      "source": [
        "## Section 3.3 - Comparison Analysis\n",
        "[占位：比较分析]\n",
        "- 请在此比较`refined_safe_weather_data_fetch`与`ideal_safe_weather_data_fetch`：\n",
        "  - **相似点**：2个共同点（例如，第3周输入验证）。\n",
        "  - **差异点**：2个不同点（例如，try-except结构）。\n",
        "  - **课程连接**：第8周概念（加粗，例如**第8周**）。\n",
        "  - **改进领域**：参考教科书第6章。"
      ],
      "metadata": {
        "id": "7cKT6_CfZKo5"
      }
    },
    {
      "cell_type": "markdown",
      "source": [
        "## Section 4.1 - Manual Implementation\n",
        "### Course Constraint: Week 4-6 techniques\n",
        "[占位：display_menu函数]\n",
        "- 请在此实现`display_menu()`，使用第3周格式化。\n",
        "- 添加doctest，例如："
      ],
      "metadata": {
        "id": "8l9GEAlLZObF"
      }
    },
    {
      "cell_type": "code",
      "source": [],
      "metadata": {
        "id": "wDviz2YhZcI0"
      },
      "execution_count": null,
      "outputs": []
    },
    {
      "cell_type": "markdown",
      "source": [
        "\n",
        "[占位：get_user_choice函数]\n",
        "- 请在此实现`get_user_choice()`，使用第3周验证。\n",
        "- 添加doctest，例如："
      ],
      "metadata": {
        "id": "f_3Ey71GZUj_"
      }
    },
    {
      "cell_type": "code",
      "source": [],
      "metadata": {
        "id": "jwhc5JssZbow"
      },
      "execution_count": null,
      "outputs": []
    },
    {
      "cell_type": "markdown",
      "source": [
        "\n",
        "[占位：main函数]\n",
        "- 请在此实现`main()`，使用第5周循环。\n",
        "- 无需doctest。\n",
        "- 注释参考课程概念，例如：“使用第5周的while循环”。"
      ],
      "metadata": {
        "id": "5Pq_aQq8ZZiX"
      }
    },
    {
      "cell_type": "markdown",
      "source": [
        "## Section 4.2 - Course-Connected Reflection\n",
        "[占位：200字反思]\n",
        "- 请在此写入200字，反思以下内容：\n",
        "  - **工作流程（70字）**：如何应用课程概念划分工作（引用**第2周**、**第4周**）。\n",
        "  - **概念应用（70字）**：错误处理思维（**第8周**）和防御性编程（**第3周**）的例子。\n",
        "  - **学习迁移（60字）**：如何将迭代优化（**第2周**）用于最终项目，改进**第7周**数据清洗。\n",
        "- 确保加粗周次引用，字数准确。"
      ],
      "metadata": {
        "id": "RTN9dOuBZhfo"
      }
    }
  ]
}