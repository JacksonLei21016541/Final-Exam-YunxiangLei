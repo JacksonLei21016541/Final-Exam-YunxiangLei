{
  "nbformat": 4,
  "nbformat_minor": 0,
  "metadata": {
    "colab": {
      "provenance": [],
      "name": "final_exam.lei21016541.ipynb",
      "toc_visible": true,
      "authorship_tag": "ABX9TyN2bAzn4ggLVr5k4Tr1UeLa",
      "include_colab_link": true
    },
    "kernelspec": {
      "name": "python3",
      "display_name": "Python 3"
    },
    "language_info": {
      "name": "python"
    }
  },
  "cells": [
    {
      "cell_type": "markdown",
      "metadata": {
        "id": "view-in-github",
        "colab_type": "text"
      },
      "source": [
        "<a href=\"https://colab.research.google.com/github/JacksonLei21016541/Final_Exam/blob/main/final_exam_lei21016541.ipynb\" target=\"_parent\"><img src=\"https://colab.research.google.com/assets/colab-badge.svg\" alt=\"Open In Colab\"/></a>"
      ]
    },
    {
      "cell_type": "code",
      "execution_count": null,
      "metadata": {
        "id": "B_ZQB93pJhXw"
      },
      "outputs": [],
      "source": [
        "print(\"Test save to GitHub\")"
      ]
    }
  ]
}